{
 "cells": [
  {
   "cell_type": "markdown",
   "metadata": {},
   "source": [
    "# Formula 1 Machine Learning Study"
   ]
  },
  {
   "cell_type": "markdown",
   "metadata": {},
   "source": [
    "### Dataset used: [*F1 Dataset (1950-2023)*](https://www.kaggle.com/datasets/rohanrao/formula-1-world-championship-1950-2020)"
   ]
  },
  {
   "cell_type": "markdown",
   "metadata": {},
   "source": [
    "### Importing necessary libraries"
   ]
  },
  {
   "cell_type": "code",
   "execution_count": 244,
   "metadata": {},
   "outputs": [],
   "source": [
    "import pandas as pd\n",
    "import numpy as np\n",
    "import matplotlib.pyplot as plt\n",
    "import plotly.express as px"
   ]
  },
  {
   "cell_type": "markdown",
   "metadata": {},
   "source": [
    "*Loading datasets*"
   ]
  },
  {
   "cell_type": "code",
   "execution_count": 245,
   "metadata": {},
   "outputs": [],
   "source": [
    "circuits= pd.read_csv(\"data/circuits.csv\")\n",
    "constructor_results=pd.read_csv(\"data/constructor_results.csv\")\n",
    "constructor_standings=pd.read_csv(\"data/constructor_standings.csv\")\n",
    "constructors= pd.read_csv(\"data/constructors.csv\")\n",
    "driver_standings=pd.read_csv(\"data/driver_standings.csv\")\n",
    "drivers=pd.read_csv(\"data/drivers.csv\")\n",
    "lap_times=pd.read_csv(\"data/lap_times.csv\")\n",
    "pit_stops=pd.read_csv(\"data/pit_stops.csv\")\n",
    "qualifying=pd.read_csv(\"data/qualifying.csv\")\n",
    "races=pd.read_csv(\"data/races.csv\")\n",
    "results=pd.read_csv(\"data/results.csv\")\n",
    "seasons=pd.read_csv(\"data/seasons.csv\")\n",
    "sprint_results=pd.read_csv(\"data/sprint_results.csv\")\n",
    "status=pd.read_csv(\"data/status.csv\")"
   ]
  },
  {
   "cell_type": "code",
   "execution_count": 246,
   "metadata": {},
   "outputs": [
    {
     "data": {
      "text/html": [
       "<div>\n",
       "<style scoped>\n",
       "    .dataframe tbody tr th:only-of-type {\n",
       "        vertical-align: middle;\n",
       "    }\n",
       "\n",
       "    .dataframe tbody tr th {\n",
       "        vertical-align: top;\n",
       "    }\n",
       "\n",
       "    .dataframe thead th {\n",
       "        text-align: right;\n",
       "    }\n",
       "</style>\n",
       "<table border=\"1\" class=\"dataframe\">\n",
       "  <thead>\n",
       "    <tr style=\"text-align: right;\">\n",
       "      <th></th>\n",
       "      <th>resultId</th>\n",
       "      <th>raceId</th>\n",
       "      <th>constructorId</th>\n",
       "      <th>number</th>\n",
       "      <th>grid</th>\n",
       "      <th>position</th>\n",
       "      <th>positionText</th>\n",
       "      <th>positionOrder</th>\n",
       "      <th>points</th>\n",
       "      <th>laps</th>\n",
       "      <th>time</th>\n",
       "      <th>milliseconds</th>\n",
       "      <th>fastestLap</th>\n",
       "      <th>rank</th>\n",
       "      <th>fastestLapTime</th>\n",
       "      <th>fastestLapSpeed</th>\n",
       "      <th>statusId</th>\n",
       "      <th>driverCode</th>\n",
       "    </tr>\n",
       "  </thead>\n",
       "  <tbody>\n",
       "    <tr>\n",
       "      <th>0</th>\n",
       "      <td>1</td>\n",
       "      <td>18</td>\n",
       "      <td>1</td>\n",
       "      <td>22</td>\n",
       "      <td>1</td>\n",
       "      <td>1</td>\n",
       "      <td>1</td>\n",
       "      <td>1</td>\n",
       "      <td>10.0</td>\n",
       "      <td>58</td>\n",
       "      <td>1:34:50.616</td>\n",
       "      <td>5690616</td>\n",
       "      <td>39</td>\n",
       "      <td>2</td>\n",
       "      <td>1:27.452</td>\n",
       "      <td>218.300</td>\n",
       "      <td>1</td>\n",
       "      <td>HAM</td>\n",
       "    </tr>\n",
       "    <tr>\n",
       "      <th>1</th>\n",
       "      <td>2</td>\n",
       "      <td>18</td>\n",
       "      <td>2</td>\n",
       "      <td>3</td>\n",
       "      <td>5</td>\n",
       "      <td>2</td>\n",
       "      <td>2</td>\n",
       "      <td>2</td>\n",
       "      <td>8.0</td>\n",
       "      <td>58</td>\n",
       "      <td>+5.478</td>\n",
       "      <td>5696094</td>\n",
       "      <td>41</td>\n",
       "      <td>3</td>\n",
       "      <td>1:27.739</td>\n",
       "      <td>217.586</td>\n",
       "      <td>1</td>\n",
       "      <td>HEI</td>\n",
       "    </tr>\n",
       "    <tr>\n",
       "      <th>2</th>\n",
       "      <td>3</td>\n",
       "      <td>18</td>\n",
       "      <td>3</td>\n",
       "      <td>7</td>\n",
       "      <td>7</td>\n",
       "      <td>3</td>\n",
       "      <td>3</td>\n",
       "      <td>3</td>\n",
       "      <td>6.0</td>\n",
       "      <td>58</td>\n",
       "      <td>+8.163</td>\n",
       "      <td>5698779</td>\n",
       "      <td>41</td>\n",
       "      <td>5</td>\n",
       "      <td>1:28.090</td>\n",
       "      <td>216.719</td>\n",
       "      <td>1</td>\n",
       "      <td>ROS</td>\n",
       "    </tr>\n",
       "    <tr>\n",
       "      <th>3</th>\n",
       "      <td>4</td>\n",
       "      <td>18</td>\n",
       "      <td>4</td>\n",
       "      <td>5</td>\n",
       "      <td>11</td>\n",
       "      <td>4</td>\n",
       "      <td>4</td>\n",
       "      <td>4</td>\n",
       "      <td>5.0</td>\n",
       "      <td>58</td>\n",
       "      <td>+17.181</td>\n",
       "      <td>5707797</td>\n",
       "      <td>58</td>\n",
       "      <td>7</td>\n",
       "      <td>1:28.603</td>\n",
       "      <td>215.464</td>\n",
       "      <td>1</td>\n",
       "      <td>ALO</td>\n",
       "    </tr>\n",
       "    <tr>\n",
       "      <th>4</th>\n",
       "      <td>5</td>\n",
       "      <td>18</td>\n",
       "      <td>1</td>\n",
       "      <td>23</td>\n",
       "      <td>3</td>\n",
       "      <td>5</td>\n",
       "      <td>5</td>\n",
       "      <td>5</td>\n",
       "      <td>4.0</td>\n",
       "      <td>58</td>\n",
       "      <td>+18.014</td>\n",
       "      <td>5708630</td>\n",
       "      <td>43</td>\n",
       "      <td>1</td>\n",
       "      <td>1:27.418</td>\n",
       "      <td>218.385</td>\n",
       "      <td>1</td>\n",
       "      <td>KOV</td>\n",
       "    </tr>\n",
       "    <tr>\n",
       "      <th>...</th>\n",
       "      <td>...</td>\n",
       "      <td>...</td>\n",
       "      <td>...</td>\n",
       "      <td>...</td>\n",
       "      <td>...</td>\n",
       "      <td>...</td>\n",
       "      <td>...</td>\n",
       "      <td>...</td>\n",
       "      <td>...</td>\n",
       "      <td>...</td>\n",
       "      <td>...</td>\n",
       "      <td>...</td>\n",
       "      <td>...</td>\n",
       "      <td>...</td>\n",
       "      <td>...</td>\n",
       "      <td>...</td>\n",
       "      <td>...</td>\n",
       "      <td>...</td>\n",
       "    </tr>\n",
       "    <tr>\n",
       "      <th>26075</th>\n",
       "      <td>26081</td>\n",
       "      <td>1110</td>\n",
       "      <td>213</td>\n",
       "      <td>3</td>\n",
       "      <td>19</td>\n",
       "      <td>16</td>\n",
       "      <td>16</td>\n",
       "      <td>16</td>\n",
       "      <td>0.0</td>\n",
       "      <td>44</td>\n",
       "      <td>+1:43.071</td>\n",
       "      <td>5053521</td>\n",
       "      <td>25</td>\n",
       "      <td>15</td>\n",
       "      <td>1:50.994</td>\n",
       "      <td>227.169</td>\n",
       "      <td>1</td>\n",
       "      <td>RIC</td>\n",
       "    </tr>\n",
       "    <tr>\n",
       "      <th>26076</th>\n",
       "      <td>26082</td>\n",
       "      <td>1110</td>\n",
       "      <td>3</td>\n",
       "      <td>2</td>\n",
       "      <td>18</td>\n",
       "      <td>17</td>\n",
       "      <td>17</td>\n",
       "      <td>17</td>\n",
       "      <td>0.0</td>\n",
       "      <td>44</td>\n",
       "      <td>+1:44.476</td>\n",
       "      <td>5054926</td>\n",
       "      <td>37</td>\n",
       "      <td>9</td>\n",
       "      <td>1:50.486</td>\n",
       "      <td>228.213</td>\n",
       "      <td>1</td>\n",
       "      <td>SAR</td>\n",
       "    </tr>\n",
       "    <tr>\n",
       "      <th>26077</th>\n",
       "      <td>26083</td>\n",
       "      <td>1110</td>\n",
       "      <td>210</td>\n",
       "      <td>27</td>\n",
       "      <td>0</td>\n",
       "      <td>18</td>\n",
       "      <td>18</td>\n",
       "      <td>18</td>\n",
       "      <td>0.0</td>\n",
       "      <td>44</td>\n",
       "      <td>+1:50.450</td>\n",
       "      <td>5060900</td>\n",
       "      <td>26</td>\n",
       "      <td>4</td>\n",
       "      <td>1:49.907</td>\n",
       "      <td>229.415</td>\n",
       "      <td>1</td>\n",
       "      <td>HUL</td>\n",
       "    </tr>\n",
       "    <tr>\n",
       "      <th>26078</th>\n",
       "      <td>26084</td>\n",
       "      <td>1110</td>\n",
       "      <td>6</td>\n",
       "      <td>55</td>\n",
       "      <td>4</td>\n",
       "      <td>\\N</td>\n",
       "      <td>R</td>\n",
       "      <td>19</td>\n",
       "      <td>0.0</td>\n",
       "      <td>23</td>\n",
       "      <td>\\N</td>\n",
       "      <td>\\N</td>\n",
       "      <td>9</td>\n",
       "      <td>19</td>\n",
       "      <td>1:53.138</td>\n",
       "      <td>222.864</td>\n",
       "      <td>130</td>\n",
       "      <td>SAI</td>\n",
       "    </tr>\n",
       "    <tr>\n",
       "      <th>26079</th>\n",
       "      <td>26085</td>\n",
       "      <td>1110</td>\n",
       "      <td>1</td>\n",
       "      <td>81</td>\n",
       "      <td>5</td>\n",
       "      <td>\\N</td>\n",
       "      <td>R</td>\n",
       "      <td>20</td>\n",
       "      <td>0.0</td>\n",
       "      <td>0</td>\n",
       "      <td>\\N</td>\n",
       "      <td>\\N</td>\n",
       "      <td>\\N</td>\n",
       "      <td>0</td>\n",
       "      <td>\\N</td>\n",
       "      <td>\\N</td>\n",
       "      <td>130</td>\n",
       "      <td>PIA</td>\n",
       "    </tr>\n",
       "  </tbody>\n",
       "</table>\n",
       "<p>26080 rows × 18 columns</p>\n",
       "</div>"
      ],
      "text/plain": [
       "       resultId  raceId  constructorId number  grid position positionText  \\\n",
       "0             1      18              1     22     1        1            1   \n",
       "1             2      18              2      3     5        2            2   \n",
       "2             3      18              3      7     7        3            3   \n",
       "3             4      18              4      5    11        4            4   \n",
       "4             5      18              1     23     3        5            5   \n",
       "...         ...     ...            ...    ...   ...      ...          ...   \n",
       "26075     26081    1110            213      3    19       16           16   \n",
       "26076     26082    1110              3      2    18       17           17   \n",
       "26077     26083    1110            210     27     0       18           18   \n",
       "26078     26084    1110              6     55     4       \\N            R   \n",
       "26079     26085    1110              1     81     5       \\N            R   \n",
       "\n",
       "       positionOrder  points  laps         time milliseconds fastestLap rank  \\\n",
       "0                  1    10.0    58  1:34:50.616      5690616         39    2   \n",
       "1                  2     8.0    58       +5.478      5696094         41    3   \n",
       "2                  3     6.0    58       +8.163      5698779         41    5   \n",
       "3                  4     5.0    58      +17.181      5707797         58    7   \n",
       "4                  5     4.0    58      +18.014      5708630         43    1   \n",
       "...              ...     ...   ...          ...          ...        ...  ...   \n",
       "26075             16     0.0    44    +1:43.071      5053521         25   15   \n",
       "26076             17     0.0    44    +1:44.476      5054926         37    9   \n",
       "26077             18     0.0    44    +1:50.450      5060900         26    4   \n",
       "26078             19     0.0    23           \\N           \\N          9   19   \n",
       "26079             20     0.0     0           \\N           \\N         \\N    0   \n",
       "\n",
       "      fastestLapTime fastestLapSpeed  statusId driverCode  \n",
       "0           1:27.452         218.300         1        HAM  \n",
       "1           1:27.739         217.586         1        HEI  \n",
       "2           1:28.090         216.719         1        ROS  \n",
       "3           1:28.603         215.464         1        ALO  \n",
       "4           1:27.418         218.385         1        KOV  \n",
       "...              ...             ...       ...        ...  \n",
       "26075       1:50.994         227.169         1        RIC  \n",
       "26076       1:50.486         228.213         1        SAR  \n",
       "26077       1:49.907         229.415         1        HUL  \n",
       "26078       1:53.138         222.864       130        SAI  \n",
       "26079             \\N              \\N       130        PIA  \n",
       "\n",
       "[26080 rows x 18 columns]"
      ]
     },
     "execution_count": 246,
     "metadata": {},
     "output_type": "execute_result"
    }
   ],
   "source": [
    "\n",
    "#results.sort_values(by=['year'])\n",
    "results.head(n=20)\n",
    "\n",
    "# Merge the datasets based on the 'driverId' column\n",
    "merged_results = pd.merge(results, drivers[['driverId', 'code']], on='driverId', how='left')\n",
    "\n",
    "# Replace the 'driverId' column in the 'results' dataset with the 'code' column\n",
    "merged_results = merged_results.rename(columns={'code': 'driverCode'})\n",
    "\n",
    "# Now, if you want to drop the original 'driverId' column, you can do:\n",
    "merged_results = merged_results.drop(columns=['driverId'])\n",
    "\n",
    "# Display the updated DataFrame\n",
    "merged_results\n",
    "\n"
   ]
  },
  {
   "cell_type": "code",
   "execution_count": 247,
   "metadata": {},
   "outputs": [
    {
     "name": "stdout",
     "output_type": "stream",
     "text": [
      "   driverCode  points\n",
      "31        HAM  4540.5\n",
      "85        VET  3098.0\n",
      "84        VER  2326.5\n",
      "3         ALO  2203.0\n",
      "64        RAI  1873.0\n"
     ]
    },
    {
     "data": {
      "image/png": "[encoded data removed]",
      "text/plain": [
       "<Figure size 1000x600 with 1 Axes>"
      ]
     },
     "metadata": {},
     "output_type": "display_data"
    }
   ],
   "source": [
    "all_time_points_leaderboard=merged_results.groupby(\"driverCode\")[\"points\"].sum().reset_index()\n",
    "\n",
    "all_time_points_leaderboard=all_time_points_leaderboard[all_time_points_leaderboard['driverCode']!=\"\\\\N\"]\n",
    "all_time_points_leaderboard=all_time_points_leaderboard.sort_values(by='points',ascending=False)[0:20]\n",
    "print(all_time_points_leaderboard.head())\n",
    "# Plotting the bar graph\n",
    "plt.figure(figsize=(10, 6))\n",
    "plt.bar(all_time_points_leaderboard['driverCode'], all_time_points_leaderboard['points'], color='blue')\n",
    "plt.xlabel('Driver Code')\n",
    "plt.ylabel('Total Points')\n",
    "plt.title('Total Points by Driver')\n",
    "plt.show()\n",
    "\n"
   ]
  },
  {
   "cell_type": "markdown",
   "metadata": {},
   "source": [
    "*Converting everyone's points to new points system*"
   ]
  },
  {
   "cell_type": "code",
   "execution_count": 248,
   "metadata": {},
   "outputs": [],
   "source": [
    "# Define the points system for the latest year (2019-present)\n",
    "points_system = {1: 25, 2: 18, 3: 15, 4: 12, 5: 10, 6: 8, 7: 6, 8: 4, 9: 2, 10: 1}\n",
    "\n",
    "# Additional points for fastest lap\n",
    "merged_results['points'] = merged_results['positionOrder'].map(points_system)\n",
    "merged_results.loc[merged_results['fastestLap'] == 1, 'points'] += 1\n",
    "\n",
    "# Extra points for fastest lap by driver and constructor (if outside the top 10)\n",
    "merged_results.loc[(merged_results['rank'] == 1) & (merged_results['positionOrder'] > 10), 'points'] += 1\n"
   ]
  },
  {
   "cell_type": "code",
   "execution_count": 249,
   "metadata": {},
   "outputs": [
    {
     "name": "stdout",
     "output_type": "stream",
     "text": [
      "   driverCode  points\n",
      "31        HAM  4879.0\n",
      "52        MSC  3903.0\n",
      "85        VET  3287.0\n",
      "3         ALO  3044.0\n",
      "64        RAI  2795.0\n"
     ]
    },
    {
     "data": {
      "image/png": "[encoded data removed]",
      "text/plain": [
       "<Figure size 1000x600 with 1 Axes>"
      ]
     },
     "metadata": {},
     "output_type": "display_data"
    }
   ],
   "source": [
    "all_time_points_leaderboard=merged_results.groupby(\"driverCode\")[\"points\"].sum().reset_index()\n",
    "\n",
    "all_time_points_leaderboard=all_time_points_leaderboard[all_time_points_leaderboard['driverCode']!=\"\\\\N\"]\n",
    "all_time_points_leaderboard=all_time_points_leaderboard.sort_values(by='points',ascending=False)[0:20] # Show Top 20 for better graph readability\n",
    "print(all_time_points_leaderboard.head())\n",
    "# Plotting the bar graph\n",
    "plt.figure(figsize=(10, 6))\n",
    "plt.bar(all_time_points_leaderboard['driverCode'], all_time_points_leaderboard['points'], color='blue')\n",
    "plt.xlabel('Driver Code')\n",
    "plt.ylabel('Total Points')\n",
    "plt.title('Total Points by Driver with Points system adjusment')\n",
    "plt.show()"
   ]
  },
  {
   "cell_type": "code",
   "execution_count": 256,
   "metadata": {},
   "outputs": [
    {
     "data": {
      "text/html": [
       "<div>\n",
       "<style scoped>\n",
       "    .dataframe tbody tr th:only-of-type {\n",
       "        vertical-align: middle;\n",
       "    }\n",
       "\n",
       "    .dataframe tbody tr th {\n",
       "        vertical-align: top;\n",
       "    }\n",
       "\n",
       "    .dataframe thead th {\n",
       "        text-align: right;\n",
       "    }\n",
       "</style>\n",
       "<table border=\"1\" class=\"dataframe\">\n",
       "  <thead>\n",
       "    <tr style=\"text-align: right;\">\n",
       "      <th></th>\n",
       "      <th>resultId</th>\n",
       "      <th>raceId</th>\n",
       "      <th>constructorId</th>\n",
       "      <th>number</th>\n",
       "      <th>grid</th>\n",
       "      <th>position</th>\n",
       "      <th>positionText</th>\n",
       "      <th>positionOrder</th>\n",
       "      <th>points</th>\n",
       "      <th>laps</th>\n",
       "      <th>time</th>\n",
       "      <th>milliseconds</th>\n",
       "      <th>fastestLap</th>\n",
       "      <th>rank</th>\n",
       "      <th>fastestLapTime</th>\n",
       "      <th>fastestLapSpeed</th>\n",
       "      <th>statusId</th>\n",
       "      <th>driverCode</th>\n",
       "    </tr>\n",
       "  </thead>\n",
       "  <tbody>\n",
       "    <tr>\n",
       "      <th>0</th>\n",
       "      <td>1</td>\n",
       "      <td>18</td>\n",
       "      <td>1</td>\n",
       "      <td>22</td>\n",
       "      <td>1</td>\n",
       "      <td>1</td>\n",
       "      <td>1</td>\n",
       "      <td>1</td>\n",
       "      <td>25.0</td>\n",
       "      <td>58</td>\n",
       "      <td>1:34:50.616</td>\n",
       "      <td>5690616</td>\n",
       "      <td>39</td>\n",
       "      <td>2</td>\n",
       "      <td>1:27.452</td>\n",
       "      <td>218.300</td>\n",
       "      <td>1</td>\n",
       "      <td>HAM</td>\n",
       "    </tr>\n",
       "    <tr>\n",
       "      <th>1</th>\n",
       "      <td>2</td>\n",
       "      <td>18</td>\n",
       "      <td>2</td>\n",
       "      <td>3</td>\n",
       "      <td>5</td>\n",
       "      <td>2</td>\n",
       "      <td>2</td>\n",
       "      <td>2</td>\n",
       "      <td>18.0</td>\n",
       "      <td>58</td>\n",
       "      <td>+5.478</td>\n",
       "      <td>5696094</td>\n",
       "      <td>41</td>\n",
       "      <td>3</td>\n",
       "      <td>1:27.739</td>\n",
       "      <td>217.586</td>\n",
       "      <td>1</td>\n",
       "      <td>HEI</td>\n",
       "    </tr>\n",
       "    <tr>\n",
       "      <th>2</th>\n",
       "      <td>3</td>\n",
       "      <td>18</td>\n",
       "      <td>3</td>\n",
       "      <td>7</td>\n",
       "      <td>7</td>\n",
       "      <td>3</td>\n",
       "      <td>3</td>\n",
       "      <td>3</td>\n",
       "      <td>15.0</td>\n",
       "      <td>58</td>\n",
       "      <td>+8.163</td>\n",
       "      <td>5698779</td>\n",
       "      <td>41</td>\n",
       "      <td>5</td>\n",
       "      <td>1:28.090</td>\n",
       "      <td>216.719</td>\n",
       "      <td>1</td>\n",
       "      <td>ROS</td>\n",
       "    </tr>\n",
       "    <tr>\n",
       "      <th>3</th>\n",
       "      <td>4</td>\n",
       "      <td>18</td>\n",
       "      <td>4</td>\n",
       "      <td>5</td>\n",
       "      <td>11</td>\n",
       "      <td>4</td>\n",
       "      <td>4</td>\n",
       "      <td>4</td>\n",
       "      <td>12.0</td>\n",
       "      <td>58</td>\n",
       "      <td>+17.181</td>\n",
       "      <td>5707797</td>\n",
       "      <td>58</td>\n",
       "      <td>7</td>\n",
       "      <td>1:28.603</td>\n",
       "      <td>215.464</td>\n",
       "      <td>1</td>\n",
       "      <td>ALO</td>\n",
       "    </tr>\n",
       "    <tr>\n",
       "      <th>4</th>\n",
       "      <td>5</td>\n",
       "      <td>18</td>\n",
       "      <td>1</td>\n",
       "      <td>23</td>\n",
       "      <td>3</td>\n",
       "      <td>5</td>\n",
       "      <td>5</td>\n",
       "      <td>5</td>\n",
       "      <td>10.0</td>\n",
       "      <td>58</td>\n",
       "      <td>+18.014</td>\n",
       "      <td>5708630</td>\n",
       "      <td>43</td>\n",
       "      <td>1</td>\n",
       "      <td>1:27.418</td>\n",
       "      <td>218.385</td>\n",
       "      <td>1</td>\n",
       "      <td>KOV</td>\n",
       "    </tr>\n",
       "    <tr>\n",
       "      <th>...</th>\n",
       "      <td>...</td>\n",
       "      <td>...</td>\n",
       "      <td>...</td>\n",
       "      <td>...</td>\n",
       "      <td>...</td>\n",
       "      <td>...</td>\n",
       "      <td>...</td>\n",
       "      <td>...</td>\n",
       "      <td>...</td>\n",
       "      <td>...</td>\n",
       "      <td>...</td>\n",
       "      <td>...</td>\n",
       "      <td>...</td>\n",
       "      <td>...</td>\n",
       "      <td>...</td>\n",
       "      <td>...</td>\n",
       "      <td>...</td>\n",
       "      <td>...</td>\n",
       "    </tr>\n",
       "    <tr>\n",
       "      <th>26075</th>\n",
       "      <td>26081</td>\n",
       "      <td>1110</td>\n",
       "      <td>213</td>\n",
       "      <td>3</td>\n",
       "      <td>19</td>\n",
       "      <td>16</td>\n",
       "      <td>16</td>\n",
       "      <td>16</td>\n",
       "      <td>NaN</td>\n",
       "      <td>44</td>\n",
       "      <td>+1:43.071</td>\n",
       "      <td>5053521</td>\n",
       "      <td>25</td>\n",
       "      <td>15</td>\n",
       "      <td>1:50.994</td>\n",
       "      <td>227.169</td>\n",
       "      <td>1</td>\n",
       "      <td>RIC</td>\n",
       "    </tr>\n",
       "    <tr>\n",
       "      <th>26076</th>\n",
       "      <td>26082</td>\n",
       "      <td>1110</td>\n",
       "      <td>3</td>\n",
       "      <td>2</td>\n",
       "      <td>18</td>\n",
       "      <td>17</td>\n",
       "      <td>17</td>\n",
       "      <td>17</td>\n",
       "      <td>NaN</td>\n",
       "      <td>44</td>\n",
       "      <td>+1:44.476</td>\n",
       "      <td>5054926</td>\n",
       "      <td>37</td>\n",
       "      <td>9</td>\n",
       "      <td>1:50.486</td>\n",
       "      <td>228.213</td>\n",
       "      <td>1</td>\n",
       "      <td>SAR</td>\n",
       "    </tr>\n",
       "    <tr>\n",
       "      <th>26077</th>\n",
       "      <td>26083</td>\n",
       "      <td>1110</td>\n",
       "      <td>210</td>\n",
       "      <td>27</td>\n",
       "      <td>0</td>\n",
       "      <td>18</td>\n",
       "      <td>18</td>\n",
       "      <td>18</td>\n",
       "      <td>NaN</td>\n",
       "      <td>44</td>\n",
       "      <td>+1:50.450</td>\n",
       "      <td>5060900</td>\n",
       "      <td>26</td>\n",
       "      <td>4</td>\n",
       "      <td>1:49.907</td>\n",
       "      <td>229.415</td>\n",
       "      <td>1</td>\n",
       "      <td>HUL</td>\n",
       "    </tr>\n",
       "    <tr>\n",
       "      <th>26078</th>\n",
       "      <td>26084</td>\n",
       "      <td>1110</td>\n",
       "      <td>6</td>\n",
       "      <td>55</td>\n",
       "      <td>4</td>\n",
       "      <td>\\N</td>\n",
       "      <td>R</td>\n",
       "      <td>19</td>\n",
       "      <td>NaN</td>\n",
       "      <td>23</td>\n",
       "      <td>\\N</td>\n",
       "      <td>\\N</td>\n",
       "      <td>9</td>\n",
       "      <td>19</td>\n",
       "      <td>1:53.138</td>\n",
       "      <td>222.864</td>\n",
       "      <td>130</td>\n",
       "      <td>SAI</td>\n",
       "    </tr>\n",
       "    <tr>\n",
       "      <th>26079</th>\n",
       "      <td>26085</td>\n",
       "      <td>1110</td>\n",
       "      <td>1</td>\n",
       "      <td>81</td>\n",
       "      <td>5</td>\n",
       "      <td>\\N</td>\n",
       "      <td>R</td>\n",
       "      <td>20</td>\n",
       "      <td>NaN</td>\n",
       "      <td>0</td>\n",
       "      <td>\\N</td>\n",
       "      <td>\\N</td>\n",
       "      <td>\\N</td>\n",
       "      <td>0</td>\n",
       "      <td>\\N</td>\n",
       "      <td>\\N</td>\n",
       "      <td>130</td>\n",
       "      <td>PIA</td>\n",
       "    </tr>\n",
       "  </tbody>\n",
       "</table>\n",
       "<p>9499 rows × 18 columns</p>\n",
       "</div>"
      ],
      "text/plain": [
       "       resultId  raceId  constructorId number  grid position positionText  \\\n",
       "0             1      18              1     22     1        1            1   \n",
       "1             2      18              2      3     5        2            2   \n",
       "2             3      18              3      7     7        3            3   \n",
       "3             4      18              4      5    11        4            4   \n",
       "4             5      18              1     23     3        5            5   \n",
       "...         ...     ...            ...    ...   ...      ...          ...   \n",
       "26075     26081    1110            213      3    19       16           16   \n",
       "26076     26082    1110              3      2    18       17           17   \n",
       "26077     26083    1110            210     27     0       18           18   \n",
       "26078     26084    1110              6     55     4       \\N            R   \n",
       "26079     26085    1110              1     81     5       \\N            R   \n",
       "\n",
       "       positionOrder  points  laps         time milliseconds fastestLap rank  \\\n",
       "0                  1    25.0    58  1:34:50.616      5690616         39    2   \n",
       "1                  2    18.0    58       +5.478      5696094         41    3   \n",
       "2                  3    15.0    58       +8.163      5698779         41    5   \n",
       "3                  4    12.0    58      +17.181      5707797         58    7   \n",
       "4                  5    10.0    58      +18.014      5708630         43    1   \n",
       "...              ...     ...   ...          ...          ...        ...  ...   \n",
       "26075             16     NaN    44    +1:43.071      5053521         25   15   \n",
       "26076             17     NaN    44    +1:44.476      5054926         37    9   \n",
       "26077             18     NaN    44    +1:50.450      5060900         26    4   \n",
       "26078             19     NaN    23           \\N           \\N          9   19   \n",
       "26079             20     NaN     0           \\N           \\N         \\N    0   \n",
       "\n",
       "      fastestLapTime fastestLapSpeed  statusId driverCode  \n",
       "0           1:27.452         218.300         1        HAM  \n",
       "1           1:27.739         217.586         1        HEI  \n",
       "2           1:28.090         216.719         1        ROS  \n",
       "3           1:28.603         215.464         1        ALO  \n",
       "4           1:27.418         218.385         1        KOV  \n",
       "...              ...             ...       ...        ...  \n",
       "26075       1:50.994         227.169         1        RIC  \n",
       "26076       1:50.486         228.213         1        SAR  \n",
       "26077       1:49.907         229.415         1        HUL  \n",
       "26078       1:53.138         222.864       130        SAI  \n",
       "26079             \\N              \\N       130        PIA  \n",
       "\n",
       "[9499 rows x 18 columns]"
      ]
     },
     "execution_count": 256,
     "metadata": {},
     "output_type": "execute_result"
    }
   ],
   "source": [
    "merged_results=merged_results[merged_results['driverCode']!='\\\\N']\n",
    "merged_results"
   ]
  },
  {
   "cell_type": "code",
   "execution_count": 259,
   "metadata": {},
   "outputs": [
    {
     "data": {
      "application/vnd.plotly.v1+json": {
       "config": {
        "plotlyServerURL": "https://plot.ly"
       },
       "data": [
        {
         "alignmentgroup": "True",
         "customdata": [
          [
           "Melbourne",
           "Australia"
          ],
          [
           "Kuala Lumpur",
           "Malaysia"
          ],
          [
           "Sakhir",
           "Bahrain"
          ],
          [
           "Montmeló",
           "Spain"
          ],
          [
           "Monte-Carlo",
           "Monaco"
          ],
          [
           "Montreal",
           "Canada"
          ],
          [
           "Magny Cours",
           "France"
          ],
          [
           "Silverstone",
           "UK"
          ],
          [
           "Hockenheim",
           "Germany"
          ],
          [
           "Budapest",
           "Hungary"
          ],
          [
           "Valencia",
           "Spain"
          ],
          [
           "Monza",
           "Italy"
          ],
          [
           "Marina Bay",
           "Singapore"
          ],
          [
           "Oyama",
           "Japan"
          ],
          [
           "Shanghai",
           "China"
          ],
          [
           "Nürburg",
           "Germany"
          ],
          [
           "Imola",
           "Italy"
          ],
          [
           "Suzuka",
           "Japan"
          ],
          [
           "Yeongam County",
           "Korea"
          ]
         ],
         "hovertemplate": "<b>%{hovertext}</b><br><br>driverCode=ALO<br>Circuit Name=%{x}<br>Number of Wins=%{y}<br>location=%{customdata[0]}<br>country=%{customdata[1]}<extra></extra>",
         "hovertext": [
          "ALO",
          "ALO",
          "ALO",
          "ALO",
          "ALO",
          "ALO",
          "ALO",
          "ALO",
          "ALO",
          "ALO",
          "ALO",
          "ALO",
          "ALO",
          "ALO",
          "ALO",
          "ALO",
          "ALO",
          "ALO",
          "ALO"
         ],
         "legendgroup": "ALO",
         "marker": {
          "color": "#636efa",
          "pattern": {
           "shape": ""
          }
         },
         "name": "ALO",
         "offsetgroup": "ALO",
         "orientation": "v",
         "showlegend": true,
         "textposition": "auto",
         "type": "bar",
         "x": [
          "Australian Grand Prix",
          "Malaysian Grand Prix",
          "Bahrain Grand Prix",
          "Spanish Grand Prix",
          "Monaco Grand Prix",
          "Canadian Grand Prix",
          "French Grand Prix",
          "British Grand Prix",
          "German Grand Prix",
          "Hungarian Grand Prix",
          "European Grand Prix",
          "Italian Grand Prix",
          "Singapore Grand Prix",
          "Japanese Grand Prix",
          "Chinese Grand Prix",
          "European Grand Prix",
          "San Marino Grand Prix",
          "Japanese Grand Prix",
          "Korean Grand Prix"
         ],
         "xaxis": "x",
         "y": [
          1,
          3,
          3,
          2,
          2,
          1,
          1,
          2,
          3,
          1,
          1,
          2,
          2,
          1,
          2,
          2,
          1,
          1,
          1
         ],
         "yaxis": "y"
        },
        {
         "alignmentgroup": "True",
         "customdata": [
          [
           "Melbourne",
           "Australia"
          ],
          [
           "Istanbul",
           "Turkey"
          ],
          [
           "Suzuka",
           "Japan"
          ],
          [
           "Abu Dhabi",
           "UAE"
          ],
          [
           "Austin",
           "USA"
          ],
          [
           "Spielberg",
           "Austria"
          ],
          [
           "Sochi",
           "Russia"
          ],
          [
           "Baku",
           "Azerbaijan"
          ]
         ],
         "hovertemplate": "<b>%{hovertext}</b><br><br>driverCode=BOT<br>Circuit Name=%{x}<br>Number of Wins=%{y}<br>location=%{customdata[0]}<br>country=%{customdata[1]}<extra></extra>",
         "hovertext": [
          "BOT",
          "BOT",
          "BOT",
          "BOT",
          "BOT",
          "BOT",
          "BOT",
          "BOT"
         ],
         "legendgroup": "BOT",
         "marker": {
          "color": "#EF553B",
          "pattern": {
           "shape": ""
          }
         },
         "name": "BOT",
         "offsetgroup": "BOT",
         "orientation": "v",
         "showlegend": true,
         "textposition": "auto",
         "type": "bar",
         "x": [
          "Australian Grand Prix",
          "Turkish Grand Prix",
          "Japanese Grand Prix",
          "Abu Dhabi Grand Prix",
          "United States Grand Prix",
          "Austrian Grand Prix",
          "Russian Grand Prix",
          "Azerbaijan Grand Prix"
         ],
         "xaxis": "x",
         "y": [
          1,
          1,
          1,
          1,
          1,
          2,
          2,
          1
         ],
         "yaxis": "y"
        },
        {
         "alignmentgroup": "True",
         "customdata": [
          [
           "Melbourne",
           "Australia"
          ],
          [
           "Kuala Lumpur",
           "Malaysia"
          ],
          [
           "Sakhir",
           "Bahrain"
          ],
          [
           "Montmeló",
           "Spain"
          ],
          [
           "Istanbul",
           "Turkey"
          ],
          [
           "Monte-Carlo",
           "Monaco"
          ],
          [
           "Montreal",
           "Canada"
          ],
          [
           "Budapest",
           "Hungary"
          ],
          [
           "Spa",
           "Belgium"
          ],
          [
           "Shanghai",
           "China"
          ],
          [
           "São Paulo",
           "Brazil"
          ],
          [
           "Suzuka",
           "Japan"
          ]
         ],
         "hovertemplate": "<b>%{hovertext}</b><br><br>driverCode=BUT<br>Circuit Name=%{x}<br>Number of Wins=%{y}<br>location=%{customdata[0]}<br>country=%{customdata[1]}<extra></extra>",
         "hovertext": [
          "BUT",
          "BUT",
          "BUT",
          "BUT",
          "BUT",
          "BUT",
          "BUT",
          "BUT",
          "BUT",
          "BUT",
          "BUT",
          "BUT"
         ],
         "legendgroup": "BUT",
         "marker": {
          "color": "#00cc96",
          "pattern": {
           "shape": ""
          }
         },
         "name": "BUT",
         "offsetgroup": "BUT",
         "orientation": "v",
         "showlegend": true,
         "textposition": "auto",
         "type": "bar",
         "x": [
          "Australian Grand Prix",
          "Malaysian Grand Prix",
          "Bahrain Grand Prix",
          "Spanish Grand Prix",
          "Turkish Grand Prix",
          "Monaco Grand Prix",
          "Canadian Grand Prix",
          "Hungarian Grand Prix",
          "Belgian Grand Prix",
          "Chinese Grand Prix",
          "Brazilian Grand Prix",
          "Japanese Grand Prix"
         ],
         "xaxis": "x",
         "y": [
          3,
          1,
          1,
          1,
          1,
          1,
          1,
          2,
          1,
          1,
          1,
          1
         ],
         "yaxis": "y"
        },
        {
         "alignmentgroup": "True",
         "customdata": [
          [
           "Melbourne",
           "Australia"
          ],
          [
           "Monte-Carlo",
           "Monaco"
          ],
          [
           "Magny Cours",
           "France"
          ],
          [
           "Silverstone",
           "UK"
          ],
          [
           "Spa",
           "Belgium"
          ],
          [
           "Monza",
           "Italy"
          ],
          [
           "São Paulo",
           "Brazil"
          ],
          [
           "Imola",
           "Italy"
          ],
          [
           "Estoril",
           "Portugal"
          ],
          [
           "Spielberg",
           "Austria"
          ]
         ],
         "hovertemplate": "<b>%{hovertext}</b><br><br>driverCode=COU<br>Circuit Name=%{x}<br>Number of Wins=%{y}<br>location=%{customdata[0]}<br>country=%{customdata[1]}<extra></extra>",
         "hovertext": [
          "COU",
          "COU",
          "COU",
          "COU",
          "COU",
          "COU",
          "COU",
          "COU",
          "COU",
          "COU"
         ],
         "legendgroup": "COU",
         "marker": {
          "color": "#ab63fa",
          "pattern": {
           "shape": ""
          }
         },
         "name": "COU",
         "offsetgroup": "COU",
         "orientation": "v",
         "showlegend": true,
         "textposition": "auto",
         "type": "bar",
         "x": [
          "Australian Grand Prix",
          "Monaco Grand Prix",
          "French Grand Prix",
          "British Grand Prix",
          "Belgian Grand Prix",
          "Italian Grand Prix",
          "Brazilian Grand Prix",
          "San Marino Grand Prix",
          "Portuguese Grand Prix",
          "Austrian Grand Prix"
         ],
         "xaxis": "x",
         "y": [
          2,
          2,
          1,
          2,
          1,
          1,
          1,
          1,
          1,
          1
         ],
         "yaxis": "y"
        },
        {
         "alignmentgroup": "True",
         "customdata": [
          [
           "Melbourne",
           "Australia"
          ],
          [
           "Kuala Lumpur",
           "Malaysia"
          ],
          [
           "São Paulo",
           "Brazil"
          ]
         ],
         "hovertemplate": "<b>%{hovertext}</b><br><br>driverCode=FIS<br>Circuit Name=%{x}<br>Number of Wins=%{y}<br>location=%{customdata[0]}<br>country=%{customdata[1]}<extra></extra>",
         "hovertext": [
          "FIS",
          "FIS",
          "FIS"
         ],
         "legendgroup": "FIS",
         "marker": {
          "color": "#FFA15A",
          "pattern": {
           "shape": ""
          }
         },
         "name": "FIS",
         "offsetgroup": "FIS",
         "orientation": "v",
         "showlegend": true,
         "textposition": "auto",
         "type": "bar",
         "x": [
          "Australian Grand Prix",
          "Malaysian Grand Prix",
          "Brazilian Grand Prix"
         ],
         "xaxis": "x",
         "y": [
          1,
          1,
          1
         ],
         "yaxis": "y"
        },
        {
         "alignmentgroup": "True",
         "customdata": [
          [
           "Melbourne",
           "Australia"
          ],
          [
           "Kuala Lumpur",
           "Malaysia"
          ],
          [
           "Sakhir",
           "Bahrain"
          ],
          [
           "Montmeló",
           "Spain"
          ],
          [
           "Istanbul",
           "Turkey"
          ],
          [
           "Monte-Carlo",
           "Monaco"
          ],
          [
           "Montreal",
           "Canada"
          ],
          [
           "Silverstone",
           "UK"
          ],
          [
           "Hockenheim",
           "Germany"
          ],
          [
           "Budapest",
           "Hungary"
          ],
          [
           "Spa",
           "Belgium"
          ],
          [
           "Monza",
           "Italy"
          ],
          [
           "Marina Bay",
           "Singapore"
          ],
          [
           "Oyama",
           "Japan"
          ],
          [
           "Shanghai",
           "China"
          ],
          [
           "São Paulo",
           "Brazil"
          ],
          [
           "São Paulo",
           "Brazil"
          ],
          [
           "Indianapolis",
           "USA"
          ],
          [
           "Nürburg",
           "Germany"
          ],
          [
           "Nürburg",
           "Germany"
          ],
          [
           "Imola",
           "Italy"
          ],
          [
           "Suzuka",
           "Japan"
          ],
          [
           "Abu Dhabi",
           "UAE"
          ],
          [
           "Mexico City",
           "Mexico"
          ],
          [
           "Le Castellet",
           "France"
          ],
          [
           "Austin",
           "USA"
          ],
          [
           "Spielberg",
           "Austria"
          ],
          [
           "Spielberg",
           "Austria"
          ],
          [
           "Sochi",
           "Russia"
          ],
          [
           "Baku",
           "Azerbaijan"
          ],
          [
           "Portimão",
           "Portugal"
          ],
          [
           "Mugello",
           "Italy"
          ],
          [
           "Jeddah",
           "Saudi Arabia"
          ],
          [
           "Al Daayen",
           "Qatar"
          ]
         ],
         "hovertemplate": "<b>%{hovertext}</b><br><br>driverCode=HAM<br>Circuit Name=%{x}<br>Number of Wins=%{y}<br>location=%{customdata[0]}<br>country=%{customdata[1]}<extra></extra>",
         "hovertext": [
          "HAM",
          "HAM",
          "HAM",
          "HAM",
          "HAM",
          "HAM",
          "HAM",
          "HAM",
          "HAM",
          "HAM",
          "HAM",
          "HAM",
          "HAM",
          "HAM",
          "HAM",
          "HAM",
          "HAM",
          "HAM",
          "HAM",
          "HAM",
          "HAM",
          "HAM",
          "HAM",
          "HAM",
          "HAM",
          "HAM",
          "HAM",
          "HAM",
          "HAM",
          "HAM",
          "HAM",
          "HAM",
          "HAM",
          "HAM"
         ],
         "legendgroup": "HAM",
         "marker": {
          "color": "#19d3f3",
          "pattern": {
           "shape": ""
          }
         },
         "name": "HAM",
         "offsetgroup": "HAM",
         "orientation": "v",
         "showlegend": true,
         "textposition": "auto",
         "type": "bar",
         "x": [
          "Australian Grand Prix",
          "Malaysian Grand Prix",
          "Bahrain Grand Prix",
          "Spanish Grand Prix",
          "Turkish Grand Prix",
          "Monaco Grand Prix",
          "Canadian Grand Prix",
          "British Grand Prix",
          "German Grand Prix",
          "Hungarian Grand Prix",
          "Belgian Grand Prix",
          "Italian Grand Prix",
          "Singapore Grand Prix",
          "Japanese Grand Prix",
          "Chinese Grand Prix",
          "Brazilian Grand Prix",
          "São Paulo Grand Prix",
          "United States Grand Prix",
          "Eifel Grand Prix",
          "German Grand Prix",
          "Emilia Romagna Grand Prix",
          "Japanese Grand Prix",
          "Abu Dhabi Grand Prix",
          "Mexican Grand Prix",
          "French Grand Prix",
          "United States Grand Prix",
          "Austrian Grand Prix",
          "Styrian Grand Prix",
          "Russian Grand Prix",
          "Azerbaijan Grand Prix",
          "Portuguese Grand Prix",
          "Tuscan Grand Prix",
          "Saudi Arabian Grand Prix",
          "Qatar Grand Prix"
         ],
         "xaxis": "x",
         "y": [
          2,
          1,
          5,
          6,
          2,
          3,
          7,
          8,
          3,
          8,
          4,
          5,
          4,
          1,
          6,
          2,
          1,
          1,
          1,
          1,
          1,
          4,
          5,
          2,
          2,
          5,
          1,
          1,
          5,
          1,
          2,
          1,
          1,
          1
         ],
         "yaxis": "y"
        },
        {
         "alignmentgroup": "True",
         "customdata": [
          [
           "Melbourne",
           "Australia"
          ],
          [
           "Sakhir",
           "Bahrain"
          ],
          [
           "Spa",
           "Belgium"
          ],
          [
           "Monza",
           "Italy"
          ],
          [
           "Spielberg",
           "Austria"
          ]
         ],
         "hovertemplate": "<b>%{hovertext}</b><br><br>driverCode=LEC<br>Circuit Name=%{x}<br>Number of Wins=%{y}<br>location=%{customdata[0]}<br>country=%{customdata[1]}<extra></extra>",
         "hovertext": [
          "LEC",
          "LEC",
          "LEC",
          "LEC",
          "LEC"
         ],
         "legendgroup": "LEC",
         "marker": {
          "color": "#FF6692",
          "pattern": {
           "shape": ""
          }
         },
         "name": "LEC",
         "offsetgroup": "LEC",
         "orientation": "v",
         "showlegend": true,
         "textposition": "auto",
         "type": "bar",
         "x": [
          "Australian Grand Prix",
          "Bahrain Grand Prix",
          "Belgian Grand Prix",
          "Italian Grand Prix",
          "Austrian Grand Prix"
         ],
         "xaxis": "x",
         "y": [
          1,
          1,
          1,
          1,
          1
         ],
         "yaxis": "y"
        },
        {
         "alignmentgroup": "True",
         "customdata": [
          [
           "Melbourne",
           "Australia"
          ],
          [
           "Kuala Lumpur",
           "Malaysia"
          ],
          [
           "Sakhir",
           "Bahrain"
          ],
          [
           "Montmeló",
           "Spain"
          ],
          [
           "Monte-Carlo",
           "Monaco"
          ],
          [
           "Montreal",
           "Canada"
          ],
          [
           "Magny Cours",
           "France"
          ],
          [
           "Silverstone",
           "UK"
          ],
          [
           "Hockenheim",
           "Germany"
          ],
          [
           "Budapest",
           "Hungary"
          ],
          [
           "Spa",
           "Belgium"
          ],
          [
           "Monza",
           "Italy"
          ],
          [
           "Shanghai",
           "China"
          ],
          [
           "São Paulo",
           "Brazil"
          ],
          [
           "Indianapolis",
           "USA"
          ],
          [
           "Nürburg",
           "Germany"
          ],
          [
           "Imola",
           "Italy"
          ],
          [
           "Suzuka",
           "Japan"
          ],
          [
           "Buenos Aires",
           "Argentina"
          ],
          [
           "Jerez de la Frontera",
           "Spain"
          ],
          [
           "Estoril",
           "Portugal"
          ],
          [
           "Okayama",
           "Japan"
          ],
          [
           "Spielberg",
           "Austria"
          ]
         ],
         "hovertemplate": "<b>%{hovertext}</b><br><br>driverCode=MSC<br>Circuit Name=%{x}<br>Number of Wins=%{y}<br>location=%{customdata[0]}<br>country=%{customdata[1]}<extra></extra>",
         "hovertext": [
          "MSC",
          "MSC",
          "MSC",
          "MSC",
          "MSC",
          "MSC",
          "MSC",
          "MSC",
          "MSC",
          "MSC",
          "MSC",
          "MSC",
          "MSC",
          "MSC",
          "MSC",
          "MSC",
          "MSC",
          "MSC",
          "MSC",
          "MSC",
          "MSC",
          "MSC",
          "MSC"
         ],
         "legendgroup": "MSC",
         "marker": {
          "color": "#B6E880",
          "pattern": {
           "shape": ""
          }
         },
         "name": "MSC",
         "offsetgroup": "MSC",
         "orientation": "v",
         "showlegend": true,
         "textposition": "auto",
         "type": "bar",
         "x": [
          "Australian Grand Prix",
          "Malaysian Grand Prix",
          "Bahrain Grand Prix",
          "Spanish Grand Prix",
          "Monaco Grand Prix",
          "Canadian Grand Prix",
          "French Grand Prix",
          "British Grand Prix",
          "German Grand Prix",
          "Hungarian Grand Prix",
          "Belgian Grand Prix",
          "Italian Grand Prix",
          "Chinese Grand Prix",
          "Brazilian Grand Prix",
          "United States Grand Prix",
          "European Grand Prix",
          "San Marino Grand Prix",
          "Japanese Grand Prix",
          "Argentine Grand Prix",
          "European Grand Prix",
          "Portuguese Grand Prix",
          "Pacific Grand Prix",
          "Austrian Grand Prix"
         ],
         "xaxis": "x",
         "y": [
          4,
          3,
          1,
          6,
          5,
          7,
          8,
          3,
          4,
          4,
          6,
          5,
          1,
          4,
          5,
          5,
          7,
          6,
          1,
          1,
          1,
          2,
          2
         ],
         "yaxis": "y"
        },
        {
         "alignmentgroup": "True",
         "customdata": [
          [
           "Melbourne",
           "Australia"
          ],
          [
           "Kuala Lumpur",
           "Malaysia"
          ],
          [
           "Montmeló",
           "Spain"
          ],
          [
           "Istanbul",
           "Turkey"
          ],
          [
           "Monte-Carlo",
           "Monaco"
          ],
          [
           "Montreal",
           "Canada"
          ],
          [
           "Magny Cours",
           "France"
          ],
          [
           "Silverstone",
           "UK"
          ],
          [
           "Budapest",
           "Hungary"
          ],
          [
           "Spa",
           "Belgium"
          ],
          [
           "Shanghai",
           "China"
          ],
          [
           "São Paulo",
           "Brazil"
          ],
          [
           "Suzuka",
           "Japan"
          ],
          [
           "Abu Dhabi",
           "UAE"
          ],
          [
           "Austin",
           "USA"
          ]
         ],
         "hovertemplate": "<b>%{hovertext}</b><br><br>driverCode=RAI<br>Circuit Name=%{x}<br>Number of Wins=%{y}<br>location=%{customdata[0]}<br>country=%{customdata[1]}<extra></extra>",
         "hovertext": [
          "RAI",
          "RAI",
          "RAI",
          "RAI",
          "RAI",
          "RAI",
          "RAI",
          "RAI",
          "RAI",
          "RAI",
          "RAI",
          "RAI",
          "RAI",
          "RAI",
          "RAI"
         ],
         "legendgroup": "RAI",
         "marker": {
          "color": "#FF97FF",
          "pattern": {
           "shape": ""
          }
         },
         "name": "RAI",
         "offsetgroup": "RAI",
         "orientation": "v",
         "showlegend": true,
         "textposition": "auto",
         "type": "bar",
         "x": [
          "Australian Grand Prix",
          "Malaysian Grand Prix",
          "Spanish Grand Prix",
          "Turkish Grand Prix",
          "Monaco Grand Prix",
          "Canadian Grand Prix",
          "French Grand Prix",
          "British Grand Prix",
          "Hungarian Grand Prix",
          "Belgian Grand Prix",
          "Chinese Grand Prix",
          "Brazilian Grand Prix",
          "Japanese Grand Prix",
          "Abu Dhabi Grand Prix",
          "United States Grand Prix"
         ],
         "xaxis": "x",
         "y": [
          2,
          2,
          2,
          1,
          1,
          1,
          1,
          1,
          1,
          4,
          1,
          1,
          1,
          1,
          1
         ],
         "yaxis": "y"
        },
        {
         "alignmentgroup": "True",
         "customdata": [
          [
           "Melbourne",
           "Australia"
          ],
          [
           "Sakhir",
           "Bahrain"
          ],
          [
           "Montmeló",
           "Spain"
          ],
          [
           "Monte-Carlo",
           "Monaco"
          ],
          [
           "Silverstone",
           "UK"
          ],
          [
           "Hockenheim",
           "Germany"
          ],
          [
           "Spa",
           "Belgium"
          ],
          [
           "Monza",
           "Italy"
          ],
          [
           "Marina Bay",
           "Singapore"
          ],
          [
           "Shanghai",
           "China"
          ],
          [
           "São Paulo",
           "Brazil"
          ],
          [
           "Suzuka",
           "Japan"
          ],
          [
           "Abu Dhabi",
           "UAE"
          ],
          [
           "Mexico City",
           "Mexico"
          ],
          [
           "Spielberg",
           "Austria"
          ],
          [
           "Sochi",
           "Russia"
          ],
          [
           "Baku",
           "Azerbaijan"
          ]
         ],
         "hovertemplate": "<b>%{hovertext}</b><br><br>driverCode=ROS<br>Circuit Name=%{x}<br>Number of Wins=%{y}<br>location=%{customdata[0]}<br>country=%{customdata[1]}<extra></extra>",
         "hovertext": [
          "ROS",
          "ROS",
          "ROS",
          "ROS",
          "ROS",
          "ROS",
          "ROS",
          "ROS",
          "ROS",
          "ROS",
          "ROS",
          "ROS",
          "ROS",
          "ROS",
          "ROS",
          "ROS",
          "ROS"
         ],
         "legendgroup": "ROS",
         "marker": {
          "color": "#FECB52",
          "pattern": {
           "shape": ""
          }
         },
         "name": "ROS",
         "offsetgroup": "ROS",
         "orientation": "v",
         "showlegend": true,
         "textposition": "auto",
         "type": "bar",
         "x": [
          "Australian Grand Prix",
          "Bahrain Grand Prix",
          "Spanish Grand Prix",
          "Monaco Grand Prix",
          "British Grand Prix",
          "German Grand Prix",
          "Belgian Grand Prix",
          "Italian Grand Prix",
          "Singapore Grand Prix",
          "Chinese Grand Prix",
          "Brazilian Grand Prix",
          "Japanese Grand Prix",
          "Abu Dhabi Grand Prix",
          "Mexican Grand Prix",
          "Austrian Grand Prix",
          "Russian Grand Prix",
          "European Grand Prix"
         ],
         "xaxis": "x",
         "y": [
          2,
          1,
          1,
          3,
          1,
          1,
          1,
          1,
          1,
          2,
          2,
          1,
          1,
          1,
          2,
          1,
          1
         ],
         "yaxis": "y"
        },
        {
         "alignmentgroup": "True",
         "customdata": [
          [
           "Melbourne",
           "Australia"
          ],
          [
           "Kuala Lumpur",
           "Malaysia"
          ],
          [
           "Sakhir",
           "Bahrain"
          ],
          [
           "Montmeló",
           "Spain"
          ],
          [
           "Monte-Carlo",
           "Monaco"
          ],
          [
           "Montreal",
           "Canada"
          ],
          [
           "Silverstone",
           "UK"
          ],
          [
           "Silverstone",
           "UK"
          ],
          [
           "Hockenheim",
           "Germany"
          ],
          [
           "Budapest",
           "Hungary"
          ],
          [
           "Spa",
           "Belgium"
          ],
          [
           "Monza",
           "Italy"
          ],
          [
           "São Paulo",
           "Brazil"
          ],
          [
           "Imola",
           "Italy"
          ],
          [
           "Suzuka",
           "Japan"
          ],
          [
           "Abu Dhabi",
           "UAE"
          ],
          [
           "Mexico City",
           "Mexico"
          ],
          [
           "Mexico City",
           "Mexico"
          ],
          [
           "Le Castellet",
           "France"
          ],
          [
           "Zandvoort",
           "Netherlands"
          ],
          [
           "Austin",
           "USA"
          ],
          [
           "Spielberg",
           "Austria"
          ],
          [
           "Spielberg",
           "Austria"
          ],
          [
           "Baku",
           "Azerbaijan"
          ],
          [
           "Jeddah",
           "Saudi Arabia"
          ],
          [
           "Miami",
           "USA"
          ]
         ],
         "hovertemplate": "<b>%{hovertext}</b><br><br>driverCode=VER<br>Circuit Name=%{x}<br>Number of Wins=%{y}<br>location=%{customdata[0]}<br>country=%{customdata[1]}<extra></extra>",
         "hovertext": [
          "VER",
          "VER",
          "VER",
          "VER",
          "VER",
          "VER",
          "VER",
          "VER",
          "VER",
          "VER",
          "VER",
          "VER",
          "VER",
          "VER",
          "VER",
          "VER",
          "VER",
          "VER",
          "VER",
          "VER",
          "VER",
          "VER",
          "VER",
          "VER",
          "VER",
          "VER"
         ],
         "legendgroup": "VER",
         "marker": {
          "color": "#636efa",
          "pattern": {
           "shape": ""
          }
         },
         "name": "VER",
         "offsetgroup": "VER",
         "orientation": "v",
         "showlegend": true,
         "textposition": "auto",
         "type": "bar",
         "x": [
          "Australian Grand Prix",
          "Malaysian Grand Prix",
          "Bahrain Grand Prix",
          "Spanish Grand Prix",
          "Monaco Grand Prix",
          "Canadian Grand Prix",
          "70th Anniversary Grand Prix",
          "British Grand Prix",
          "German Grand Prix",
          "Hungarian Grand Prix",
          "Belgian Grand Prix",
          "Italian Grand Prix",
          "Brazilian Grand Prix",
          "Emilia Romagna Grand Prix",
          "Japanese Grand Prix",
          "Abu Dhabi Grand Prix",
          "Mexican Grand Prix",
          "Mexico City Grand Prix",
          "French Grand Prix",
          "Dutch Grand Prix",
          "United States Grand Prix",
          "Austrian Grand Prix",
          "Styrian Grand Prix",
          "Azerbaijan Grand Prix",
          "Saudi Arabian Grand Prix",
          "Miami Grand Prix"
         ],
         "xaxis": "x",
         "y": [
          1,
          1,
          1,
          3,
          2,
          2,
          1,
          1,
          1,
          2,
          3,
          1,
          1,
          2,
          1,
          3,
          2,
          2,
          2,
          2,
          2,
          4,
          1,
          1,
          1,
          2
         ],
         "yaxis": "y"
        },
        {
         "alignmentgroup": "True",
         "customdata": [
          [
           "Melbourne",
           "Australia"
          ],
          [
           "Kuala Lumpur",
           "Malaysia"
          ],
          [
           "Sakhir",
           "Bahrain"
          ],
          [
           "Montmeló",
           "Spain"
          ],
          [
           "Istanbul",
           "Turkey"
          ],
          [
           "Monte-Carlo",
           "Monaco"
          ],
          [
           "Montreal",
           "Canada"
          ],
          [
           "Silverstone",
           "UK"
          ],
          [
           "Budapest",
           "Hungary"
          ],
          [
           "Valencia",
           "Spain"
          ],
          [
           "Spa",
           "Belgium"
          ],
          [
           "Monza",
           "Italy"
          ],
          [
           "Marina Bay",
           "Singapore"
          ],
          [
           "Shanghai",
           "China"
          ],
          [
           "São Paulo",
           "Brazil"
          ],
          [
           "Nürburg",
           "Germany"
          ],
          [
           "Suzuka",
           "Japan"
          ],
          [
           "Abu Dhabi",
           "UAE"
          ],
          [
           "Yeongam County",
           "Korea"
          ],
          [
           "Uttar Pradesh",
           "India"
          ],
          [
           "Austin",
           "USA"
          ]
         ],
         "hovertemplate": "<b>%{hovertext}</b><br><br>driverCode=VET<br>Circuit Name=%{x}<br>Number of Wins=%{y}<br>location=%{customdata[0]}<br>country=%{customdata[1]}<extra></extra>",
         "hovertext": [
          "VET",
          "VET",
          "VET",
          "VET",
          "VET",
          "VET",
          "VET",
          "VET",
          "VET",
          "VET",
          "VET",
          "VET",
          "VET",
          "VET",
          "VET",
          "VET",
          "VET",
          "VET",
          "VET",
          "VET",
          "VET"
         ],
         "legendgroup": "VET",
         "marker": {
          "color": "#EF553B",
          "pattern": {
           "shape": ""
          }
         },
         "name": "VET",
         "offsetgroup": "VET",
         "orientation": "v",
         "showlegend": true,
         "textposition": "auto",
         "type": "bar",
         "x": [
          "Australian Grand Prix",
          "Malaysian Grand Prix",
          "Bahrain Grand Prix",
          "Spanish Grand Prix",
          "Turkish Grand Prix",
          "Monaco Grand Prix",
          "Canadian Grand Prix",
          "British Grand Prix",
          "Hungarian Grand Prix",
          "European Grand Prix",
          "Belgian Grand Prix",
          "Italian Grand Prix",
          "Singapore Grand Prix",
          "Chinese Grand Prix",
          "Brazilian Grand Prix",
          "German Grand Prix",
          "Japanese Grand Prix",
          "Abu Dhabi Grand Prix",
          "Korean Grand Prix",
          "Indian Grand Prix",
          "United States Grand Prix"
         ],
         "xaxis": "x",
         "y": [
          3,
          4,
          4,
          1,
          1,
          2,
          2,
          2,
          2,
          2,
          3,
          3,
          5,
          1,
          3,
          1,
          4,
          3,
          3,
          3,
          1
         ],
         "yaxis": "y"
        },
        {
         "alignmentgroup": "True",
         "customdata": [
          [
           "Kuala Lumpur",
           "Malaysia"
          ],
          [
           "Monte-Carlo",
           "Monaco"
          ],
          [
           "Montreal",
           "Canada"
          ],
          [
           "Budapest",
           "Hungary"
          ],
          [
           "Spa",
           "Belgium"
          ],
          [
           "Monza",
           "Italy"
          ],
          [
           "Shanghai",
           "China"
          ],
          [
           "Baku",
           "Azerbaijan"
          ]
         ],
         "hovertemplate": "<b>%{hovertext}</b><br><br>driverCode=RIC<br>Circuit Name=%{x}<br>Number of Wins=%{y}<br>location=%{customdata[0]}<br>country=%{customdata[1]}<extra></extra>",
         "hovertext": [
          "RIC",
          "RIC",
          "RIC",
          "RIC",
          "RIC",
          "RIC",
          "RIC",
          "RIC"
         ],
         "legendgroup": "RIC",
         "marker": {
          "color": "#00cc96",
          "pattern": {
           "shape": ""
          }
         },
         "name": "RIC",
         "offsetgroup": "RIC",
         "orientation": "v",
         "showlegend": true,
         "textposition": "auto",
         "type": "bar",
         "x": [
          "Malaysian Grand Prix",
          "Monaco Grand Prix",
          "Canadian Grand Prix",
          "Hungarian Grand Prix",
          "Belgian Grand Prix",
          "Italian Grand Prix",
          "Chinese Grand Prix",
          "Azerbaijan Grand Prix"
         ],
         "xaxis": "x",
         "y": [
          1,
          1,
          1,
          1,
          1,
          1,
          1,
          1
         ],
         "yaxis": "y"
        },
        {
         "alignmentgroup": "True",
         "customdata": [
          [
           "Kuala Lumpur",
           "Malaysia"
          ],
          [
           "Montreal",
           "Canada"
          ],
          [
           "Magny Cours",
           "France"
          ],
          [
           "Hockenheim",
           "Germany"
          ],
          [
           "Nürburg",
           "Germany"
          ],
          [
           "Imola",
           "Italy"
          ]
         ],
         "hovertemplate": "<b>%{hovertext}</b><br><br>driverCode=SCH<br>Circuit Name=%{x}<br>Number of Wins=%{y}<br>location=%{customdata[0]}<br>country=%{customdata[1]}<extra></extra>",
         "hovertext": [
          "SCH",
          "SCH",
          "SCH",
          "SCH",
          "SCH",
          "SCH"
         ],
         "legendgroup": "SCH",
         "marker": {
          "color": "#ab63fa",
          "pattern": {
           "shape": ""
          }
         },
         "name": "SCH",
         "offsetgroup": "SCH",
         "orientation": "v",
         "showlegend": true,
         "textposition": "auto",
         "type": "bar",
         "x": [
          "Malaysian Grand Prix",
          "Canadian Grand Prix",
          "French Grand Prix",
          "German Grand Prix",
          "European Grand Prix",
          "San Marino Grand Prix"
         ],
         "xaxis": "x",
         "y": [
          1,
          1,
          1,
          1,
          1,
          1
         ],
         "yaxis": "y"
        },
        {
         "alignmentgroup": "True",
         "customdata": [
          [
           "Sakhir",
           "Bahrain"
          ],
          [
           "Montmeló",
           "Spain"
          ],
          [
           "Istanbul",
           "Turkey"
          ],
          [
           "Magny Cours",
           "France"
          ],
          [
           "Valencia",
           "Spain"
          ],
          [
           "Spa",
           "Belgium"
          ],
          [
           "São Paulo",
           "Brazil"
          ]
         ],
         "hovertemplate": "<b>%{hovertext}</b><br><br>driverCode=MAS<br>Circuit Name=%{x}<br>Number of Wins=%{y}<br>location=%{customdata[0]}<br>country=%{customdata[1]}<extra></extra>",
         "hovertext": [
          "MAS",
          "MAS",
          "MAS",
          "MAS",
          "MAS",
          "MAS",
          "MAS"
         ],
         "legendgroup": "MAS",
         "marker": {
          "color": "#FFA15A",
          "pattern": {
           "shape": ""
          }
         },
         "name": "MAS",
         "offsetgroup": "MAS",
         "orientation": "v",
         "showlegend": true,
         "textposition": "auto",
         "type": "bar",
         "x": [
          "Bahrain Grand Prix",
          "Spanish Grand Prix",
          "Turkish Grand Prix",
          "French Grand Prix",
          "European Grand Prix",
          "Belgian Grand Prix",
          "Brazilian Grand Prix"
         ],
         "xaxis": "x",
         "y": [
          2,
          1,
          3,
          1,
          1,
          1,
          2
         ],
         "yaxis": "y"
        },
        {
         "alignmentgroup": "True",
         "customdata": [
          [
           "Sakhir",
           "Bahrain"
          ],
          [
           "Monte-Carlo",
           "Monaco"
          ],
          [
           "Marina Bay",
           "Singapore"
          ],
          [
           "Baku",
           "Azerbaijan"
          ],
          [
           "Jeddah",
           "Saudi Arabia"
          ]
         ],
         "hovertemplate": "<b>%{hovertext}</b><br><br>driverCode=PER<br>Circuit Name=%{x}<br>Number of Wins=%{y}<br>location=%{customdata[0]}<br>country=%{customdata[1]}<extra></extra>",
         "hovertext": [
          "PER",
          "PER",
          "PER",
          "PER",
          "PER"
         ],
         "legendgroup": "PER",
         "marker": {
          "color": "#19d3f3",
          "pattern": {
           "shape": ""
          }
         },
         "name": "PER",
         "offsetgroup": "PER",
         "orientation": "v",
         "showlegend": true,
         "textposition": "auto",
         "type": "bar",
         "x": [
          "Sakhir Grand Prix",
          "Monaco Grand Prix",
          "Singapore Grand Prix",
          "Azerbaijan Grand Prix",
          "Saudi Arabian Grand Prix"
         ],
         "xaxis": "x",
         "y": [
          1,
          1,
          1,
          2,
          1
         ],
         "yaxis": "y"
        },
        {
         "alignmentgroup": "True",
         "customdata": [
          [
           "Montmeló",
           "Spain"
          ]
         ],
         "hovertemplate": "<b>%{hovertext}</b><br><br>driverCode=MAL<br>Circuit Name=%{x}<br>Number of Wins=%{y}<br>location=%{customdata[0]}<br>country=%{customdata[1]}<extra></extra>",
         "hovertext": [
          "MAL"
         ],
         "legendgroup": "MAL",
         "marker": {
          "color": "#FF6692",
          "pattern": {
           "shape": ""
          }
         },
         "name": "MAL",
         "offsetgroup": "MAL",
         "orientation": "v",
         "showlegend": true,
         "textposition": "auto",
         "type": "bar",
         "x": [
          "Spanish Grand Prix"
         ],
         "xaxis": "x",
         "y": [
          1
         ],
         "yaxis": "y"
        },
        {
         "alignmentgroup": "True",
         "customdata": [
          [
           "Montmeló",
           "Spain"
          ],
          [
           "Silverstone",
           "UK"
          ],
          [
           "Budapest",
           "Hungary"
          ],
          [
           "São Paulo",
           "Brazil"
          ],
          [
           "Nürburg",
           "Germany"
          ],
          [
           "Nürburg",
           "Germany"
          ],
          [
           "Buenos Aires",
           "Argentina"
          ],
          [
           "Estoril",
           "Portugal"
          ],
          [
           "Spielberg",
           "Austria"
          ]
         ],
         "hovertemplate": "<b>%{hovertext}</b><br><br>driverCode=VIL<br>Circuit Name=%{x}<br>Number of Wins=%{y}<br>location=%{customdata[0]}<br>country=%{customdata[1]}<extra></extra>",
         "hovertext": [
          "VIL",
          "VIL",
          "VIL",
          "VIL",
          "VIL",
          "VIL",
          "VIL",
          "VIL",
          "VIL"
         ],
         "legendgroup": "VIL",
         "marker": {
          "color": "#B6E880",
          "pattern": {
           "shape": ""
          }
         },
         "name": "VIL",
         "offsetgroup": "VIL",
         "orientation": "v",
         "showlegend": true,
         "textposition": "auto",
         "type": "bar",
         "x": [
          "Spanish Grand Prix",
          "British Grand Prix",
          "Hungarian Grand Prix",
          "Brazilian Grand Prix",
          "European Grand Prix",
          "Luxembourg Grand Prix",
          "Argentine Grand Prix",
          "Portuguese Grand Prix",
          "Austrian Grand Prix"
         ],
         "xaxis": "x",
         "y": [
          1,
          2,
          2,
          1,
          1,
          1,
          1,
          1,
          1
         ],
         "yaxis": "y"
        },
        {
         "alignmentgroup": "True",
         "customdata": [
          [
           "Montmeló",
           "Spain"
          ],
          [
           "Monte-Carlo",
           "Monaco"
          ],
          [
           "Silverstone",
           "UK"
          ],
          [
           "Budapest",
           "Hungary"
          ],
          [
           "São Paulo",
           "Brazil"
          ],
          [
           "Nürburg",
           "Germany"
          ]
         ],
         "hovertemplate": "<b>%{hovertext}</b><br><br>driverCode=WEB<br>Circuit Name=%{x}<br>Number of Wins=%{y}<br>location=%{customdata[0]}<br>country=%{customdata[1]}<extra></extra>",
         "hovertext": [
          "WEB",
          "WEB",
          "WEB",
          "WEB",
          "WEB",
          "WEB"
         ],
         "legendgroup": "WEB",
         "marker": {
          "color": "#FF97FF",
          "pattern": {
           "shape": ""
          }
         },
         "name": "WEB",
         "offsetgroup": "WEB",
         "orientation": "v",
         "showlegend": true,
         "textposition": "auto",
         "type": "bar",
         "x": [
          "Spanish Grand Prix",
          "Monaco Grand Prix",
          "British Grand Prix",
          "Hungarian Grand Prix",
          "Brazilian Grand Prix",
          "German Grand Prix"
         ],
         "xaxis": "x",
         "y": [
          1,
          2,
          2,
          1,
          2,
          1
         ],
         "yaxis": "y"
        },
        {
         "alignmentgroup": "True",
         "customdata": [
          [
           "Monte-Carlo",
           "Monaco"
          ],
          [
           "Silverstone",
           "UK"
          ],
          [
           "Hockenheim",
           "Germany"
          ],
          [
           "Monza",
           "Italy"
          ],
          [
           "São Paulo",
           "Brazil"
          ]
         ],
         "hovertemplate": "<b>%{hovertext}</b><br><br>driverCode=MON<br>Circuit Name=%{x}<br>Number of Wins=%{y}<br>location=%{customdata[0]}<br>country=%{customdata[1]}<extra></extra>",
         "hovertext": [
          "MON",
          "MON",
          "MON",
          "MON",
          "MON"
         ],
         "legendgroup": "MON",
         "marker": {
          "color": "#FECB52",
          "pattern": {
           "shape": ""
          }
         },
         "name": "MON",
         "offsetgroup": "MON",
         "orientation": "v",
         "showlegend": true,
         "textposition": "auto",
         "type": "bar",
         "x": [
          "Monaco Grand Prix",
          "British Grand Prix",
          "German Grand Prix",
          "Italian Grand Prix",
          "Brazilian Grand Prix"
         ],
         "xaxis": "x",
         "y": [
          1,
          1,
          1,
          2,
          2
         ],
         "yaxis": "y"
        },
        {
         "alignmentgroup": "True",
         "customdata": [
          [
           "Monte-Carlo",
           "Monaco"
          ]
         ],
         "hovertemplate": "<b>%{hovertext}</b><br><br>driverCode=TRU<br>Circuit Name=%{x}<br>Number of Wins=%{y}<br>location=%{customdata[0]}<br>country=%{customdata[1]}<extra></extra>",
         "hovertext": [
          "TRU"
         ],
         "legendgroup": "TRU",
         "marker": {
          "color": "#636efa",
          "pattern": {
           "shape": ""
          }
         },
         "name": "TRU",
         "offsetgroup": "TRU",
         "orientation": "v",
         "showlegend": true,
         "textposition": "auto",
         "type": "bar",
         "x": [
          "Monaco Grand Prix"
         ],
         "xaxis": "x",
         "y": [
          1
         ],
         "yaxis": "y"
        },
        {
         "alignmentgroup": "True",
         "customdata": [
          [
           "Montreal",
           "Canada"
          ]
         ],
         "hovertemplate": "<b>%{hovertext}</b><br><br>driverCode=KUB<br>Circuit Name=%{x}<br>Number of Wins=%{y}<br>location=%{customdata[0]}<br>country=%{customdata[1]}<extra></extra>",
         "hovertext": [
          "KUB"
         ],
         "legendgroup": "KUB",
         "marker": {
          "color": "#EF553B",
          "pattern": {
           "shape": ""
          }
         },
         "name": "KUB",
         "offsetgroup": "KUB",
         "orientation": "v",
         "showlegend": true,
         "textposition": "auto",
         "type": "bar",
         "x": [
          "Canadian Grand Prix"
         ],
         "xaxis": "x",
         "y": [
          1
         ],
         "yaxis": "y"
        },
        {
         "alignmentgroup": "True",
         "customdata": [
          [
           "Silverstone",
           "UK"
          ],
          [
           "Hockenheim",
           "Germany"
          ],
          [
           "Budapest",
           "Hungary"
          ],
          [
           "Valencia",
           "Spain"
          ],
          [
           "Monza",
           "Italy"
          ],
          [
           "Shanghai",
           "China"
          ],
          [
           "Indianapolis",
           "USA"
          ],
          [
           "Nürburg",
           "Germany"
          ],
          [
           "Suzuka",
           "Japan"
          ]
         ],
         "hovertemplate": "<b>%{hovertext}</b><br><br>driverCode=BAR<br>Circuit Name=%{x}<br>Number of Wins=%{y}<br>location=%{customdata[0]}<br>country=%{customdata[1]}<extra></extra>",
         "hovertext": [
          "BAR",
          "BAR",
          "BAR",
          "BAR",
          "BAR",
          "BAR",
          "BAR",
          "BAR",
          "BAR"
         ],
         "legendgroup": "BAR",
         "marker": {
          "color": "#00cc96",
          "pattern": {
           "shape": ""
          }
         },
         "name": "BAR",
         "offsetgroup": "BAR",
         "orientation": "v",
         "showlegend": true,
         "textposition": "auto",
         "type": "bar",
         "x": [
          "British Grand Prix",
          "German Grand Prix",
          "Hungarian Grand Prix",
          "European Grand Prix",
          "Italian Grand Prix",
          "Chinese Grand Prix",
          "United States Grand Prix",
          "European Grand Prix",
          "Japanese Grand Prix"
         ],
         "xaxis": "x",
         "y": [
          1,
          1,
          1,
          1,
          3,
          1,
          1,
          1,
          1
         ],
         "yaxis": "y"
        },
        {
         "alignmentgroup": "True",
         "customdata": [
          [
           "Silverstone",
           "UK"
          ]
         ],
         "hovertemplate": "<b>%{hovertext}</b><br><br>driverCode=SAI<br>Circuit Name=%{x}<br>Number of Wins=%{y}<br>location=%{customdata[0]}<br>country=%{customdata[1]}<extra></extra>",
         "hovertext": [
          "SAI"
         ],
         "legendgroup": "SAI",
         "marker": {
          "color": "#ab63fa",
          "pattern": {
           "shape": ""
          }
         },
         "name": "SAI",
         "offsetgroup": "SAI",
         "orientation": "v",
         "showlegend": true,
         "textposition": "auto",
         "type": "bar",
         "x": [
          "British Grand Prix"
         ],
         "xaxis": "x",
         "y": [
          1
         ],
         "yaxis": "y"
        },
        {
         "alignmentgroup": "True",
         "customdata": [
          [
           "Budapest",
           "Hungary"
          ]
         ],
         "hovertemplate": "<b>%{hovertext}</b><br><br>driverCode=KOV<br>Circuit Name=%{x}<br>Number of Wins=%{y}<br>location=%{customdata[0]}<br>country=%{customdata[1]}<extra></extra>",
         "hovertext": [
          "KOV"
         ],
         "legendgroup": "KOV",
         "marker": {
          "color": "#FFA15A",
          "pattern": {
           "shape": ""
          }
         },
         "name": "KOV",
         "offsetgroup": "KOV",
         "orientation": "v",
         "showlegend": true,
         "textposition": "auto",
         "type": "bar",
         "x": [
          "Hungarian Grand Prix"
         ],
         "xaxis": "x",
         "y": [
          1
         ],
         "yaxis": "y"
        },
        {
         "alignmentgroup": "True",
         "customdata": [
          [
           "Budapest",
           "Hungary"
          ]
         ],
         "hovertemplate": "<b>%{hovertext}</b><br><br>driverCode=OCO<br>Circuit Name=%{x}<br>Number of Wins=%{y}<br>location=%{customdata[0]}<br>country=%{customdata[1]}<extra></extra>",
         "hovertext": [
          "OCO"
         ],
         "legendgroup": "OCO",
         "marker": {
          "color": "#19d3f3",
          "pattern": {
           "shape": ""
          }
         },
         "name": "OCO",
         "offsetgroup": "OCO",
         "orientation": "v",
         "showlegend": true,
         "textposition": "auto",
         "type": "bar",
         "x": [
          "Hungarian Grand Prix"
         ],
         "xaxis": "x",
         "y": [
          1
         ],
         "yaxis": "y"
        },
        {
         "alignmentgroup": "True",
         "customdata": [
          [
           "Monza",
           "Italy"
          ]
         ],
         "hovertemplate": "<b>%{hovertext}</b><br><br>driverCode=GAS<br>Circuit Name=%{x}<br>Number of Wins=%{y}<br>location=%{customdata[0]}<br>country=%{customdata[1]}<extra></extra>",
         "hovertext": [
          "GAS"
         ],
         "legendgroup": "GAS",
         "marker": {
          "color": "#FF6692",
          "pattern": {
           "shape": ""
          }
         },
         "name": "GAS",
         "offsetgroup": "GAS",
         "orientation": "v",
         "showlegend": true,
         "textposition": "auto",
         "type": "bar",
         "x": [
          "Italian Grand Prix"
         ],
         "xaxis": "x",
         "y": [
          1
         ],
         "yaxis": "y"
        },
        {
         "alignmentgroup": "True",
         "customdata": [
          [
           "São Paulo",
           "Brazil"
          ]
         ],
         "hovertemplate": "<b>%{hovertext}</b><br><br>driverCode=RUS<br>Circuit Name=%{x}<br>Number of Wins=%{y}<br>location=%{customdata[0]}<br>country=%{customdata[1]}<extra></extra>",
         "hovertext": [
          "RUS"
         ],
         "legendgroup": "RUS",
         "marker": {
          "color": "#B6E880",
          "pattern": {
           "shape": ""
          }
         },
         "name": "RUS",
         "offsetgroup": "RUS",
         "orientation": "v",
         "showlegend": true,
         "textposition": "auto",
         "type": "bar",
         "x": [
          "Brazilian Grand Prix"
         ],
         "xaxis": "x",
         "y": [
          1
         ],
         "yaxis": "y"
        }
       ],
       "layout": {
        "barmode": "group",
        "legend": {
         "title": {
          "text": "driverCode"
         },
         "tracegroupgap": 0
        },
        "template": {
         "data": {
          "bar": [
           {
            "error_x": {
             "color": "#2a3f5f"
            },
            "error_y": {
             "color": "#2a3f5f"
            },
            "marker": {
             "line": {
              "color": "#E5ECF6",
              "width": 0.5
             },
             "pattern": {
              "fillmode": "overlay",
              "size": 10,
              "solidity": 0.2
             }
            },
            "type": "bar"
           }
          ],
          "barpolar": [
           {
            "marker": {
             "line": {
              "color": "#E5ECF6",
              "width": 0.5
             },
             "pattern": {
              "fillmode": "overlay",
              "size": 10,
              "solidity": 0.2
             }
            },
            "type": "barpolar"
           }
          ],
          "carpet": [
           {
            "aaxis": {
             "endlinecolor": "#2a3f5f",
             "gridcolor": "white",
             "linecolor": "white",
             "minorgridcolor": "white",
             "startlinecolor": "#2a3f5f"
            },
            "baxis": {
             "endlinecolor": "#2a3f5f",
             "gridcolor": "white",
             "linecolor": "white",
             "minorgridcolor": "white",
             "startlinecolor": "#2a3f5f"
            },
            "type": "carpet"
           }
          ],
          "choropleth": [
           {
            "colorbar": {
             "outlinewidth": 0,
             "ticks": ""
            },
            "type": "choropleth"
           }
          ],
          "contour": [
           {
            "colorbar": {
             "outlinewidth": 0,
             "ticks": ""
            },
            "colorscale": [
             [
              0,
              "#0d0887"
             ],
             [
              0.1111111111111111,
              "#46039f"
             ],
             [
              0.2222222222222222,
              "#7201a8"
             ],
             [
              0.3333333333333333,
              "#9c179e"
             ],
             [
              0.4444444444444444,
              "#bd3786"
             ],
             [
              0.5555555555555556,
              "#d8576b"
             ],
             [
              0.6666666666666666,
              "#ed7953"
             ],
             [
              0.7777777777777778,
              "#fb9f3a"
             ],
             [
              0.8888888888888888,
              "#fdca26"
             ],
             [
              1,
              "#f0f921"
             ]
            ],
            "type": "contour"
           }
          ],
          "contourcarpet": [
           {
            "colorbar": {
             "outlinewidth": 0,
             "ticks": ""
            },
            "type": "contourcarpet"
           }
          ],
          "heatmap": [
           {
            "colorbar": {
             "outlinewidth": 0,
             "ticks": ""
            },
            "colorscale": [
             [
              0,
              "#0d0887"
             ],
             [
              0.1111111111111111,
              "#46039f"
             ],
             [
              0.2222222222222222,
              "#7201a8"
             ],
             [
              0.3333333333333333,
              "#9c179e"
             ],
             [
              0.4444444444444444,
              "#bd3786"
             ],
             [
              0.5555555555555556,
              "#d8576b"
             ],
             [
              0.6666666666666666,
              "#ed7953"
             ],
             [
              0.7777777777777778,
              "#fb9f3a"
             ],
             [
              0.8888888888888888,
              "#fdca26"
             ],
             [
              1,
              "#f0f921"
             ]
            ],
            "type": "heatmap"
           }
          ],
          "heatmapgl": [
           {
            "colorbar": {
             "outlinewidth": 0,
             "ticks": ""
            },
            "colorscale": [
             [
              0,
              "#0d0887"
             ],
             [
              0.1111111111111111,
              "#46039f"
             ],
             [
              0.2222222222222222,
              "#7201a8"
             ],
             [
              0.3333333333333333,
              "#9c179e"
             ],
             [
              0.4444444444444444,
              "#bd3786"
             ],
             [
              0.5555555555555556,
              "#d8576b"
             ],
             [
              0.6666666666666666,
              "#ed7953"
             ],
             [
              0.7777777777777778,
              "#fb9f3a"
             ],
             [
              0.8888888888888888,
              "#fdca26"
             ],
             [
              1,
              "#f0f921"
             ]
            ],
            "type": "heatmapgl"
           }
          ],
          "histogram": [
           {
            "marker": {
             "pattern": {
              "fillmode": "overlay",
              "size": 10,
              "solidity": 0.2
             }
            },
            "type": "histogram"
           }
          ],
          "histogram2d": [
           {
            "colorbar": {
             "outlinewidth": 0,
             "ticks": ""
            },
            "colorscale": [
             [
              0,
              "#0d0887"
             ],
             [
              0.1111111111111111,
              "#46039f"
             ],
             [
              0.2222222222222222,
              "#7201a8"
             ],
             [
              0.3333333333333333,
              "#9c179e"
             ],
             [
              0.4444444444444444,
              "#bd3786"
             ],
             [
              0.5555555555555556,
              "#d8576b"
             ],
             [
              0.6666666666666666,
              "#ed7953"
             ],
             [
              0.7777777777777778,
              "#fb9f3a"
             ],
             [
              0.8888888888888888,
              "#fdca26"
             ],
             [
              1,
              "#f0f921"
             ]
            ],
            "type": "histogram2d"
           }
          ],
          "histogram2dcontour": [
           {
            "colorbar": {
             "outlinewidth": 0,
             "ticks": ""
            },
            "colorscale": [
             [
              0,
              "#0d0887"
             ],
             [
              0.1111111111111111,
              "#46039f"
             ],
             [
              0.2222222222222222,
              "#7201a8"
             ],
             [
              0.3333333333333333,
              "#9c179e"
             ],
             [
              0.4444444444444444,
              "#bd3786"
             ],
             [
              0.5555555555555556,
              "#d8576b"
             ],
             [
              0.6666666666666666,
              "#ed7953"
             ],
             [
              0.7777777777777778,
              "#fb9f3a"
             ],
             [
              0.8888888888888888,
              "#fdca26"
             ],
             [
              1,
              "#f0f921"
             ]
            ],
            "type": "histogram2dcontour"
           }
          ],
          "mesh3d": [
           {
            "colorbar": {
             "outlinewidth": 0,
             "ticks": ""
            },
            "type": "mesh3d"
           }
          ],
          "parcoords": [
           {
            "line": {
             "colorbar": {
              "outlinewidth": 0,
              "ticks": ""
             }
            },
            "type": "parcoords"
           }
          ],
          "pie": [
           {
            "automargin": true,
            "type": "pie"
           }
          ],
          "scatter": [
           {
            "fillpattern": {
             "fillmode": "overlay",
             "size": 10,
             "solidity": 0.2
            },
            "type": "scatter"
           }
          ],
          "scatter3d": [
           {
            "line": {
             "colorbar": {
              "outlinewidth": 0,
              "ticks": ""
             }
            },
            "marker": {
             "colorbar": {
              "outlinewidth": 0,
              "ticks": ""
             }
            },
            "type": "scatter3d"
           }
          ],
          "scattercarpet": [
           {
            "marker": {
             "colorbar": {
              "outlinewidth": 0,
              "ticks": ""
             }
            },
            "type": "scattercarpet"
           }
          ],
          "scattergeo": [
           {
            "marker": {
             "colorbar": {
              "outlinewidth": 0,
              "ticks": ""
             }
            },
            "type": "scattergeo"
           }
          ],
          "scattergl": [
           {
            "marker": {
             "colorbar": {
              "outlinewidth": 0,
              "ticks": ""
             }
            },
            "type": "scattergl"
           }
          ],
          "scattermapbox": [
           {
            "marker": {
             "colorbar": {
              "outlinewidth": 0,
              "ticks": ""
             }
            },
            "type": "scattermapbox"
           }
          ],
          "scatterpolar": [
           {
            "marker": {
             "colorbar": {
              "outlinewidth": 0,
              "ticks": ""
             }
            },
            "type": "scatterpolar"
           }
          ],
          "scatterpolargl": [
           {
            "marker": {
             "colorbar": {
              "outlinewidth": 0,
              "ticks": ""
             }
            },
            "type": "scatterpolargl"
           }
          ],
          "scatterternary": [
           {
            "marker": {
             "colorbar": {
              "outlinewidth": 0,
              "ticks": ""
             }
            },
            "type": "scatterternary"
           }
          ],
          "surface": [
           {
            "colorbar": {
             "outlinewidth": 0,
             "ticks": ""
            },
            "colorscale": [
             [
              0,
              "#0d0887"
             ],
             [
              0.1111111111111111,
              "#46039f"
             ],
             [
              0.2222222222222222,
              "#7201a8"
             ],
             [
              0.3333333333333333,
              "#9c179e"
             ],
             [
              0.4444444444444444,
              "#bd3786"
             ],
             [
              0.5555555555555556,
              "#d8576b"
             ],
             [
              0.6666666666666666,
              "#ed7953"
             ],
             [
              0.7777777777777778,
              "#fb9f3a"
             ],
             [
              0.8888888888888888,
              "#fdca26"
             ],
             [
              1,
              "#f0f921"
             ]
            ],
            "type": "surface"
           }
          ],
          "table": [
           {
            "cells": {
             "fill": {
              "color": "#EBF0F8"
             },
             "line": {
              "color": "white"
             }
            },
            "header": {
             "fill": {
              "color": "#C8D4E3"
             },
             "line": {
              "color": "white"
             }
            },
            "type": "table"
           }
          ]
         },
         "layout": {
          "annotationdefaults": {
           "arrowcolor": "#2a3f5f",
           "arrowhead": 0,
           "arrowwidth": 1
          },
          "autotypenumbers": "strict",
          "coloraxis": {
           "colorbar": {
            "outlinewidth": 0,
            "ticks": ""
           }
          },
          "colorscale": {
           "diverging": [
            [
             0,
             "#8e0152"
            ],
            [
             0.1,
             "#c51b7d"
            ],
            [
             0.2,
             "#de77ae"
            ],
            [
             0.3,
             "#f1b6da"
            ],
            [
             0.4,
             "#fde0ef"
            ],
            [
             0.5,
             "#f7f7f7"
            ],
            [
             0.6,
             "#e6f5d0"
            ],
            [
             0.7,
             "#b8e186"
            ],
            [
             0.8,
             "#7fbc41"
            ],
            [
             0.9,
             "#4d9221"
            ],
            [
             1,
             "#276419"
            ]
           ],
           "sequential": [
            [
             0,
             "#0d0887"
            ],
            [
             0.1111111111111111,
             "#46039f"
            ],
            [
             0.2222222222222222,
             "#7201a8"
            ],
            [
             0.3333333333333333,
             "#9c179e"
            ],
            [
             0.4444444444444444,
             "#bd3786"
            ],
            [
             0.5555555555555556,
             "#d8576b"
            ],
            [
             0.6666666666666666,
             "#ed7953"
            ],
            [
             0.7777777777777778,
             "#fb9f3a"
            ],
            [
             0.8888888888888888,
             "#fdca26"
            ],
            [
             1,
             "#f0f921"
            ]
           ],
           "sequentialminus": [
            [
             0,
             "#0d0887"
            ],
            [
             0.1111111111111111,
             "#46039f"
            ],
            [
             0.2222222222222222,
             "#7201a8"
            ],
            [
             0.3333333333333333,
             "#9c179e"
            ],
            [
             0.4444444444444444,
             "#bd3786"
            ],
            [
             0.5555555555555556,
             "#d8576b"
            ],
            [
             0.6666666666666666,
             "#ed7953"
            ],
            [
             0.7777777777777778,
             "#fb9f3a"
            ],
            [
             0.8888888888888888,
             "#fdca26"
            ],
            [
             1,
             "#f0f921"
            ]
           ]
          },
          "colorway": [
           "#636efa",
           "#EF553B",
           "#00cc96",
           "#ab63fa",
           "#FFA15A",
           "#19d3f3",
           "#FF6692",
           "#B6E880",
           "#FF97FF",
           "#FECB52"
          ],
          "font": {
           "color": "#2a3f5f"
          },
          "geo": {
           "bgcolor": "white",
           "lakecolor": "white",
           "landcolor": "#E5ECF6",
           "showlakes": true,
           "showland": true,
           "subunitcolor": "white"
          },
          "hoverlabel": {
           "align": "left"
          },
          "hovermode": "closest",
          "mapbox": {
           "style": "light"
          },
          "paper_bgcolor": "white",
          "plot_bgcolor": "#E5ECF6",
          "polar": {
           "angularaxis": {
            "gridcolor": "white",
            "linecolor": "white",
            "ticks": ""
           },
           "bgcolor": "#E5ECF6",
           "radialaxis": {
            "gridcolor": "white",
            "linecolor": "white",
            "ticks": ""
           }
          },
          "scene": {
           "xaxis": {
            "backgroundcolor": "#E5ECF6",
            "gridcolor": "white",
            "gridwidth": 2,
            "linecolor": "white",
            "showbackground": true,
            "ticks": "",
            "zerolinecolor": "white"
           },
           "yaxis": {
            "backgroundcolor": "#E5ECF6",
            "gridcolor": "white",
            "gridwidth": 2,
            "linecolor": "white",
            "showbackground": true,
            "ticks": "",
            "zerolinecolor": "white"
           },
           "zaxis": {
            "backgroundcolor": "#E5ECF6",
            "gridcolor": "white",
            "gridwidth": 2,
            "linecolor": "white",
            "showbackground": true,
            "ticks": "",
            "zerolinecolor": "white"
           }
          },
          "shapedefaults": {
           "line": {
            "color": "#2a3f5f"
           }
          },
          "ternary": {
           "aaxis": {
            "gridcolor": "white",
            "linecolor": "white",
            "ticks": ""
           },
           "baxis": {
            "gridcolor": "white",
            "linecolor": "white",
            "ticks": ""
           },
           "bgcolor": "#E5ECF6",
           "caxis": {
            "gridcolor": "white",
            "linecolor": "white",
            "ticks": ""
           }
          },
          "title": {
           "x": 0.05
          },
          "xaxis": {
           "automargin": true,
           "gridcolor": "white",
           "linecolor": "white",
           "ticks": "",
           "title": {
            "standoff": 15
           },
           "zerolinecolor": "white",
           "zerolinewidth": 2
          },
          "yaxis": {
           "automargin": true,
           "gridcolor": "white",
           "linecolor": "white",
           "ticks": "",
           "title": {
            "standoff": 15
           },
           "zerolinecolor": "white",
           "zerolinewidth": 2
          }
         }
        },
        "title": {
         "text": "Wins by Driver at Different Circuits"
        },
        "xaxis": {
         "anchor": "y",
         "domain": [
          0,
          1
         ],
         "tickangle": -45,
         "title": {
          "text": "Circuit Name"
         }
        },
        "yaxis": {
         "anchor": "x",
         "domain": [
          0,
          1
         ],
         "title": {
          "text": "Number of Wins"
         }
        }
       }
      }
     },
     "metadata": {},
     "output_type": "display_data"
    }
   ],
   "source": [
    "\n",
    "\n",
    "\n",
    "# Merge 'results' with 'races' based on 'raceId'\n",
    "results_with_race_info = pd.merge(merged_results, races[['raceId','circuitId','name']], on='raceId', how='left')\n",
    "\n",
    "# Merge the above DataFrame with 'circuits' based on 'circuitId'\n",
    "results_with_race_and_circuit_info = pd.merge(results_with_race_info, circuits[['circuitId','name','location','country']], on='circuitId', how='left')\n",
    "\n",
    "# Filter data for the specific driver\n",
    "driver_performance = results_with_race_and_circuit_info[results_with_race_and_circuit_info['positionOrder']==1]\n",
    "\n",
    "# Count the number of wins at each circuit\n",
    "wins_by_circuit = driver_performance.groupby(['circuitId', 'name_x', 'location', 'country','driverCode'])['raceId'].count().reset_index()\n",
    "wins_by_circuit = wins_by_circuit.rename(columns={'raceId': 'wins'})\n",
    "\n",
    "# Find the circuits with the most wins by driver\n",
    "circuits_with_most_wins = wins_by_circuit.sort_values(by='wins', ascending=False).head(5)\n",
    "\n",
    "# Create an interactive bar graph using plotly\n",
    "fig = px.bar(wins_by_circuit, x='name_x', y='wins', color='driverCode',\n",
    "             labels={'name_x': 'Circuit Name', 'wins': 'Number of Wins'},\n",
    "             title='Wins by Driver at Different Circuits',\n",
    "             hover_name='driverCode', hover_data=['location', 'country'])\n",
    "\n",
    "# Update layout for better readability\n",
    "fig.update_layout(barmode='group', xaxis_tickangle=-45)\n",
    "\n",
    "# Show the interactive graph\n",
    "fig.show()"
   ]
  }
 ],
 "metadata": {
  "kernelspec": {
   "display_name": "base",
   "language": "python",
   "name": "python3"
  },
  "language_info": {
   "codemirror_mode": {
    "name": "ipython",
    "version": 3
   },
   "file_extension": ".py",
   "mimetype": "text/x-python",
   "name": "python",
   "nbconvert_exporter": "python",
   "pygments_lexer": "ipython3",
   "version": "3.11.5"
  }
 },
 "nbformat": 4,
 "nbformat_minor": 2
}
